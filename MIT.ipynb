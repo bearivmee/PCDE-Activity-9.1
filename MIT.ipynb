{
 "cells": [
  {
   "cell_type": "markdown",
   "metadata": {},
   "source": [
    "# The Massachusetts Institute of Technology (MIT)\n",
    "\n",
    "**Beatriz Rivera Meenen | GitHub: bearivmee**\n",
    "\n",
    "The Massachusetts Institute of Technology (MIT) is a private university in Cambridge, Massachusetts. Established in 1861, MIT has since been ranked among the top academic institutions in the world.\n",
    "\n",
    "The original MIT logo was created by Seymour Papert and it represents two figures symbolizing the fields of Science and Art. The image below displays the original logo."
   ]
  },
  {
   "cell_type": "markdown",
   "metadata": {},
   "source": [
    "![MIT Logo](Logo%20MIT.png)"
   ]
  }
 ],
 "metadata": {
  "kernelspec": {
   "display_name": "Python 3 (ipykernel)",
   "language": "python",
   "name": "python3"
  }
 },
 "nbformat": 4,
 "nbformat_minor": 4
}
